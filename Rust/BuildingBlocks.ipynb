{
 "cells": [
  {
   "cell_type": "markdown",
   "id": "da33d384-e468-4e90-bc16-f12be9f5a8a5",
   "metadata": {},
   "source": [
    "# Introduction to Rust\n",
    "\n",
    "Rust is a modern, systems programming language designed for safety, concurrency, and performance. It has gained immense popularity due to its powerful features and strong guarantees. This introduction aims to provide a brief overview of the 5 fundamental building blocks in Rust, which will set the foundation for your journey in learning and mastering this powerful language. These building blocks are:\n",
    "\n",
    "1. **Variables**: Variables are used to store and manipulate data in Rust. They come in two flavors: mutable and immutable. By default, variables are immutable, ensuring that their values cannot be changed after being assigned. However, you can explicitly make a variable mutable using the mut keyword.\n",
    "\n",
    "2. **Decisions**: Decision-making constructs in Rust allow you to execute specific blocks of code based on certain conditions. The primary constructs for decision-making are `if`, `else`, and `match`. The if and else constructs are used to perform simple checks, while the match construct is more powerful, allowing you to perform complex pattern matching and branching.\n",
    "\n",
    "3. **Loops**: Loops are used to repeatedly execute a block of code until a specific condition is met. Rust provides three types of loops: `loop`, `while`, and `for`. The `loop` construct is an infinite loop that must be explicitly broken out of, the `while` loop iterates as long as a given condition remains true, and the `for` loop is used to iterate over a range or collection of values.\n",
    "\n",
    "4. **Functions**: Functions are reusable pieces of code that can be defined and called in your program. Functions in Rust provide a way to organize and structure your code, making it more modular and easier to maintain. Rust functions support multiple return types, default arguments, and pattern matching, among other features.\n",
    "\n",
    "5. **Structs & Implementations**: Structs are custom data types that allow you to group related pieces of data together. They are similar to objects in other languages, and they can have associated methods through implementations. Implementations, defined using the `impl` keyword, provide a way to define methods that operate on a `struct`, allowing for encapsulation and modular code design.\n",
    "\n",
    "With these building blocks in mind, you can start your journey into Rust, exploring its powerful features and leveraging its safety and performance guarantees to build efficient and reliable systems."
   ]
  },
  {
   "cell_type": "markdown",
   "id": "6fed90ca-8c0e-4f2c-98a9-0ff1846a2e54",
   "metadata": {},
   "source": [
    "# Variables\n",
    "\n",
    "Alright, imagine you have a box, and you can put something inside it, like a toy or a number. In Rust, this box is called a \"variable.\" Variables are like containers that help us store and keep track of information in our computer programs.\n",
    "\n",
    "Now, when you put something inside the box, you can give the box a name, like \"favorite_color\" or \"age.\" These names help us remember what's inside the box and make it easy to find the information when we need it.\n",
    "\n",
    "In Rust, there are two types of boxes: ones that you can change what's inside and ones that you can't. The boxes that you can't change are called \"immutable,\" which means once you put something in it, you can't replace it with something else. The boxes that you can change are called \"mutable,\" and you can take things out and put new things in whenever you want.\n",
    "\n",
    "So, variables in Rust are like boxes with names that help us store and organize information in our computer programs. Some boxes let you change what's inside, while others don't. And that's the basics of variables in Rust!\n",
    "\n",
    "## Immutable Example"
   ]
  },
  {
   "cell_type": "code",
   "execution_count": 2,
   "id": "891b8bce-2798-4acc-b28c-ffd461cdce28",
   "metadata": {},
   "outputs": [
    {
     "name": "stdout",
     "output_type": "stream",
     "text": [
      "10\n"
     ]
    }
   ],
   "source": [
    "let age = 10;\n",
    "println!(\"{}\",age);"
   ]
  },
  {
   "cell_type": "code",
   "execution_count": null,
   "id": "ea31a16c-27b2-4f03-8ec4-a815cb2b69a2",
   "metadata": {},
   "outputs": [],
   "source": [
    "age = 11;"
   ]
  },
  {
   "cell_type": "markdown",
   "id": "d2fffa54-5f29-41ce-81dc-870053320eb9",
   "metadata": {},
   "source": [
    "As you can see, you can't change a immutable variable, lets make it mutable\n",
    "\n",
    "## Mutable Example"
   ]
  },
  {
   "cell_type": "code",
   "execution_count": null,
   "id": "5defdd38-2104-496b-b137-fc611628c4eb",
   "metadata": {},
   "outputs": [],
   "source": [
    "let mut age = 10;\n",
    "println!(\"{}\",age);"
   ]
  },
  {
   "cell_type": "markdown",
   "id": "4d178c1d-9448-49f0-b623-0e7375777c1f",
   "metadata": {},
   "source": [
    "Now lets modify the variable to say 11 instead of 10."
   ]
  },
  {
   "cell_type": "code",
   "execution_count": null,
   "id": "d64dc573-cf17-4764-9af7-9feff6e74786",
   "metadata": {},
   "outputs": [],
   "source": [
    "age = 11;\n",
    "println!(\"{}\", age);"
   ]
  },
  {
   "cell_type": "markdown",
   "id": "4de5647e-f815-470a-8384-92eb707ad699",
   "metadata": {},
   "source": [
    "## Data Types\n",
    "\n",
    "A datatype is like a label that tells us what kind of information a variable can hold. Just like we have different types of containers for storing different things, like a bottle for water or a jar for cookies, we have different datatypes to store different kinds of information in our computer programs.\n",
    "\n",
    "In Rust, there are several basic datatypes, and here are some of the main ones:\n",
    "\n",
    "1. **Integers**: Integers are whole numbers, like 5, 42, or -10. In Rust, there are different types of integers based on how big the number is and whether it's positive or negative. For example, `i32` is a 32-bit signed integer that can hold both positive and negative numbers, while `u32` is a 32-bit unsigned integer that can only hold positive numbers.\n",
    "\n",
    "2. **Floating-point numbers**: Floating-point numbers are numbers with a decimal point, like 3.14 or -0.5. Rust has two floating-point datatypes: `f32` and `f64`. They can hold decimal numbers with different levels of precision.\n",
    "\n",
    "3. **Booleans**: Booleans are simple true or false values. In Rust, the datatype for booleans is `bool`.\n",
    "\n",
    "4. **Characters**: Characters represent a single letter, number, or symbol, like 'a', '9', or '#'. In Rust, the datatype for characters is `char`.\n",
    "\n",
    "5. **Strings**: Strings are a sequence of characters, like \"Hello, world!\". In Rust, the datatype for strings is `String`.\n",
    "\n",
    "Rust also has some more complex datatypes that can store multiple pieces of information together. One of these is the Vector:\n",
    "\n",
    "6. **Vectors**: A Vector is like a list of items, all of the same datatype. Vectors can grow or shrink as needed, and they're useful when you want to store a collection of similar items, like a list of numbers or names.\n",
    "\n",
    "7. **Arrays**: Arrays are similar to vectors, but they have a fixed size, which means you can't add or remove items after creating the array. Each item in an array must be of the same datatype. Arrays are useful when you know exactly how many items you want to store and need a fast, fixed-size collection. In Rust, you create an array like this: `[1, 2, 3, 4]`, which is an array of four 32-bit integers.\n",
    "\n",
    "8. **Tuples**: Tuples are a collection of values that can have different datatypes. They are like a small, fixed-size group of items, each with its own label or \"position.\" You can use these positions to access the items inside a tuple. Tuples are useful when you want to group a few pieces of related information together but don't need a full-blown struct or other complex datatype. In Rust, you create a tuple like this: (1, \"hello\", 3.14), which is a tuple containing an integer, a string, and a floating-point number.\n",
    "\n",
    "Now, there are even more complex datatypes like HashMaps and BTreeMaps:\n",
    "\n",
    "9. **HashMaps**: A `HashMap` is like a collection of boxes, each with a unique label called a \"key\" and something inside it called a \"value.\" You can use the key to find the right box and get the value inside. HashMaps are useful when you want to quickly look up information based on a unique label.\n",
    "\n",
    "10. **BTreeMaps**: A `BTreeMap` is similar to a `HashMap`, but it has a different way of organizing the boxes with keys and values. BTreeMaps keep the keys in a sorted order, which makes it easy to find the smallest or largest key or to find a range of keys. BTreeMaps are useful when you need to maintain a sorted order of your data.\n",
    "\n",
    "So, datatypes in Rust are like labels that tell us what kind of information a variable can hold. There are basic datatypes for simple information and more complex datatypes for organizing and storing multiple pieces of information together."
   ]
  },
  {
   "cell_type": "code",
   "execution_count": null,
   "id": "36d0b77a-4222-4cf1-9e82-0532791bc5de",
   "metadata": {},
   "outputs": [],
   "source": [
    "// Integers\n",
    "let age: u32 = 10;\n",
    "println!(\"{}\",age);"
   ]
  },
  {
   "cell_type": "code",
   "execution_count": null,
   "id": "7e5fd0c8-8142-488c-8860-6ce9091227d1",
   "metadata": {},
   "outputs": [],
   "source": [
    "// Floating point numbers\n",
    "let time_in_seconds: f32 = 10.5;\n",
    "println!(\"{}\",time_in_seconds);"
   ]
  },
  {
   "cell_type": "code",
   "execution_count": null,
   "id": "255d006a-36e4-42a5-9470-d66f169a68ea",
   "metadata": {},
   "outputs": [],
   "source": [
    "// Boolean value\n",
    "let is_old_enough: bool = true;\n",
    "println!(\"{}\", is_old_enough);"
   ]
  },
  {
   "cell_type": "code",
   "execution_count": null,
   "id": "fa27fed9-52c9-47f5-92e0-1526b424bb53",
   "metadata": {},
   "outputs": [],
   "source": [
    "// Characters\n",
    "let character: char = 'a';\n",
    "println!(\"{}\", character);"
   ]
  },
  {
   "cell_type": "code",
   "execution_count": null,
   "id": "4276bc23-088a-4bae-9c0b-7fb24c9964f2",
   "metadata": {},
   "outputs": [],
   "source": [
    "// String\n",
    "let name: &str = \"James\";\n",
    "println!(\"{}\", name);"
   ]
  },
  {
   "cell_type": "code",
   "execution_count": null,
   "id": "aecf019c-b495-4067-9084-3ad0726d5563",
   "metadata": {},
   "outputs": [],
   "source": [
    "// Vectors\n",
    "let shopping_list: Vec<&str> = vec![\"Orange's\", \"Apple's\", \"Tomato's\"];\n",
    "println!(\"{:?}\", shopping_list);"
   ]
  },
  {
   "cell_type": "code",
   "execution_count": null,
   "id": "f6bbf618-6bfa-4a7c-a529-b3b37e07344d",
   "metadata": {},
   "outputs": [],
   "source": [
    "// Arrays\n",
    "let my_array: [i32; 4] = [1, 2, 3, 4];\n",
    "println!(\"{:?}\", my_array);"
   ]
  },
  {
   "cell_type": "code",
   "execution_count": null,
   "id": "d521e301-ed7b-42cf-917a-aa3eea696d59",
   "metadata": {},
   "outputs": [],
   "source": [
    "// Tuples\n",
    "let person: (String, i32, f64) = (\"Alice\".to_string(), 30, 5.7);\n",
    "println!(\"{:?}\", person);"
   ]
  },
  {
   "cell_type": "code",
   "execution_count": null,
   "id": "0629d117-2522-4b37-8fa3-5f6ee7e3bf5c",
   "metadata": {},
   "outputs": [],
   "source": [
    "// HashMap\n",
    "use std::collections::HashMap;\n",
    "\n",
    "let mut scores: HashMap<String, i32> = HashMap::new();\n",
    "scores.insert(\"Alice\".to_string(), 90);\n",
    "scores.insert(\"Bob\".to_string(), 80);\n",
    "println!(\"{:?}\",scores);"
   ]
  },
  {
   "cell_type": "code",
   "execution_count": null,
   "id": "bf485058-e090-49c3-b772-02575f34c066",
   "metadata": {},
   "outputs": [],
   "source": [
    "// BTreeMap\n",
    "use std::collections::BTreeMap;\n",
    "\n",
    "let mut scores: BTreeMap<String, i32> = BTreeMap::new();\n",
    "scores.insert(\"Alice\".to_string(), 90);\n",
    "scores.insert(\"Bob\".to_string(), 80);\n",
    "println!(\"{:?}\",scores);"
   ]
  },
  {
   "cell_type": "markdown",
   "id": "b8fd79b2-77e6-430b-bb9a-f5e558481a7b",
   "metadata": {},
   "source": [
    "# Decisions\n",
    "\n",
    "Imagine you're playing a game where you have to make choices. Depending on your choice, different things happen. Decisions in Rust work the same way! They help the computer decide what to do based on certain conditions.\n",
    "\n",
    "## If statement\n",
    "In Rust, we use something called an \"if\" statement to make decisions. It's like asking the computer, \"Hey, if this condition is true, then do this thing. Otherwise, do something else.\"\n",
    "\n",
    "For example, let's say you have a variable called weather that tells you if it's sunny or rainy. You want to decide whether to go outside and play or stay inside. Here's how we can use an \"if\" statement in Rust to help you make that decision:"
   ]
  },
  {
   "cell_type": "code",
   "execution_count": null,
   "id": "7472c771-a35e-4735-a616-465e43b51c5a",
   "metadata": {},
   "outputs": [],
   "source": [
    "let weather = \"sunny\";\n",
    "\n",
    "if weather == \"sunny\" {\n",
    "    println!(\"Let's go outside and play!\");\n",
    "} else {\n",
    "    println!(\"It's rainy. Let's stay inside.\");\n",
    "};"
   ]
  },
  {
   "cell_type": "markdown",
   "id": "570d1b0d-3d3f-4085-97b1-8fb06d7e79f0",
   "metadata": {},
   "source": [
    "In this example, we're checking if the weather is equal to \"sunny.\" If it is, the computer will print \"Let's go outside and play!\" If it's not, the computer will print \"It's rainy. Let's stay inside.\"\n",
    "\n",
    "## Else if statement\n",
    "\n",
    "We can also use something called an \"else if\" to check multiple conditions. For example, if the weather can also be cloudy, we can update our decision like this:"
   ]
  },
  {
   "cell_type": "code",
   "execution_count": null,
   "id": "3686638f-1fcb-4e51-8ff1-d3fb39fde4da",
   "metadata": {},
   "outputs": [],
   "source": [
    "let weather = \"cloudy\";\n",
    "\n",
    "if weather == \"sunny\" {\n",
    "    println!(\"Let's go outside and play!\");\n",
    "} else if weather == \"cloudy\" {\n",
    "    println!(\"It's cloudy, but we can still go outside.\");\n",
    "} else {\n",
    "    println!(\"It's rainy. Let's stay inside.\");\n",
    "};"
   ]
  },
  {
   "cell_type": "markdown",
   "id": "2620f17a-c0d4-4f87-bde8-176bb91d5b2e",
   "metadata": {},
   "source": [
    "Now the computer checks if it's sunny or cloudy, and if neither of those conditions is true, it assumes that it's rainy.\n",
    "\n",
    "So, decisions in Rust are like choices we make in a game. We use \"if,\" \"else if,\" and \"else\" to help the computer figure out what to do based on different conditions.\n",
    "\n",
    "## Match statement\n",
    "\n",
    "Let's continue the weather example using a match statement. A match statement is like a more powerful version of \"if\" and \"else if.\" It helps the computer choose between several options based on the value of a variable.\n",
    "\n",
    "Here's how we can rewrite the weather example using a match statement in Rust:"
   ]
  },
  {
   "cell_type": "code",
   "execution_count": null,
   "id": "c86da95e-b082-4513-bb13-ee6fea6f4978",
   "metadata": {},
   "outputs": [],
   "source": [
    "let weather = \"cloudy\";\n",
    "\n",
    "match weather {\n",
    "    \"sunny\" => println!(\"Let's go outside and play!\"),\n",
    "    \"cloudy\" => println!(\"It's cloudy, but we can still go outside.\"),\n",
    "    \"rainy\" => println!(\"It's rainy. Let's stay inside.\"),\n",
    "    _ => println!(\"I don't know this weather. Let's just stay inside.\"),\n",
    "};\n"
   ]
  },
  {
   "cell_type": "markdown",
   "id": "f8e4adf4-dcbd-4581-b4e3-3a1304929057",
   "metadata": {},
   "source": [
    "In this example, we're using a match statement to check the value of the weather variable. For each possible value, we have a different message to print. The => symbol connects the value we're checking to the action we want to take.\n",
    "\n",
    "The _ (underscore) at the end is like a catch-all. If the weather is something other than \"sunny,\" \"cloudy,\" or \"rainy,\" the computer will print \"I don't know this weather. Let's just stay inside.\"\n",
    "\n",
    "Using a match statement, we can easily handle multiple options and make our code more organized and easier to read. It's like having a list of choices, and the computer picks the one that matches the current situation."
   ]
  },
  {
   "cell_type": "markdown",
   "id": "3b0c529e-e3a1-4c09-975c-f04bc33368d9",
   "metadata": {},
   "source": [
    "# Loops\n",
    "\n",
    "Loops are like going around a racetrack, doing the same thing over and over until we reach the finish line. In Rust, we use loops to repeat a block of code until a specific condition is met. There are three types of loops in Rust: loop, while, and for. Let's learn about each type with some simple examples!\n",
    "\n",
    "## Loop\n",
    "The `loop` construct is like going around a racetrack without any finish line. It's an infinite loop that keeps going until we tell it to stop. To stop the loop, we need to use the `break` keyword. Let's see an example:"
   ]
  },
  {
   "cell_type": "code",
   "execution_count": null,
   "id": "f9ca3888-0d46-4f05-9d7c-5c86ec022499",
   "metadata": {},
   "outputs": [],
   "source": [
    "let mut counter = 0;\n",
    "\n",
    "loop {\n",
    "    println!(\"We're going around the loop!\");\n",
    "    counter += 1;\n",
    "\n",
    "    if counter >= 5 {\n",
    "        println!(\"We've looped 5 times, time to stop!\");\n",
    "        break;\n",
    "    }\n",
    "};"
   ]
  },
  {
   "cell_type": "markdown",
   "id": "6655550f-a941-4f96-9802-ed8557278dab",
   "metadata": {},
   "source": [
    "In this example, we use a loop to print a message and increase a counter. When the counter reaches 5, we say \"enough is enough!\" and use the break keyword to stop the loop.\n",
    "\n",
    "## While\n",
    "\n",
    "The `while` loop is like going around the racetrack until we run out of fuel. It keeps going as long as a given condition remains true. Here's an example:"
   ]
  },
  {
   "cell_type": "code",
   "execution_count": null,
   "id": "badb25cd-7e9f-4571-83d9-9a7cdb60db02",
   "metadata": {},
   "outputs": [],
   "source": [
    "let mut fuel = 10;\n",
    "\n",
    "while fuel > 0 {\n",
    "    println!(\"We still have {} fuel, let's keep going!\", fuel);\n",
    "    fuel -= 1;\n",
    "}\n",
    "\n",
    "println!(\"We're out of fuel! Time to stop.\");\n"
   ]
  },
  {
   "cell_type": "markdown",
   "id": "3aa518ee-98e0-445f-ab9e-fed30f9573bb",
   "metadata": {},
   "source": [
    "In this example, we use a while loop to keep going as long as there is fuel left. When the fuel runs out, the loop stops automatically.\n",
    "\n",
    "## For\n",
    "\n",
    "The `for` loop is like going around the racetrack a specific number of times. It's used to iterate over a range or collection of values. Let's see an example with a range:"
   ]
  },
  {
   "cell_type": "code",
   "execution_count": null,
   "id": "8651202e-6cba-4d7f-98ca-bf5340f14595",
   "metadata": {},
   "outputs": [],
   "source": [
    "for lap in 1..6 {\n",
    "    println!(\"This is lap number {}!\", lap);\n",
    "}\n",
    "\n",
    "println!(\"We've completed 5 laps, time to stop!\");\n"
   ]
  },
  {
   "cell_type": "markdown",
   "id": "0ccfe863-4cf2-4945-899e-68768e8ed8bf",
   "metadata": {},
   "source": [
    "In this example, we use a for loop to go around the track 5 times. We use the range 1..6 to specify that we want to do 1 to 5 laps (the upper bound is exclusive). When the loop finishes, the program continues with the next line of code.\n",
    "\n",
    "So, loops are a way to repeat code until a condition is met. We can use loop, while, and for loops to control how many times we go around the racetrack or how long we keep looping!"
   ]
  },
  {
   "cell_type": "markdown",
   "id": "428ee3b1-0269-4a64-80ef-f67ec8fed875",
   "metadata": {},
   "source": [
    "# Functions\n",
    "\n",
    "Imagine you have a favorite toy that you can assemble and disassemble. Functions in Rust are like those toys: reusable pieces of code that you can put together to build your program. Functions help you organize and structure your code, making it more like a neatly arranged toy box rather than a messy pile of blocks.\n",
    "## Creating Functions\n",
    "\n",
    "Let's say we want to create a function that adds two numbers together. Here's how we can define that function in Rust:"
   ]
  },
  {
   "cell_type": "code",
   "execution_count": null,
   "id": "018fcbdb-7357-44fd-a028-de0d07edb83f",
   "metadata": {},
   "outputs": [],
   "source": [
    "fn add_numbers(a: i32, b: i32) -> i32 {\n",
    "    return a + b;\n",
    "}"
   ]
  },
  {
   "cell_type": "markdown",
   "id": "9499fae2-16da-4b7e-a583-7b92be7ff661",
   "metadata": {},
   "source": [
    "In this example, we create a function called add_numbers that takes two parameters, a and b, both of type i32. The function returns the sum of the two numbers as an i32 (indicated by the -> i32 after the parameter list).\n",
    "\n",
    "## Calling Functions\n",
    "\n",
    "Now that we have our add_numbers function, let's use it to add some numbers:"
   ]
  },
  {
   "cell_type": "code",
   "execution_count": null,
   "id": "4a310928-2854-4287-915e-c690c36866b3",
   "metadata": {},
   "outputs": [],
   "source": [
    "let result = add_numbers(3, 4);\n",
    "println!(\"The sum of 3 and 4 is: {}\", result);"
   ]
  },
  {
   "cell_type": "markdown",
   "id": "2c38aecb-3ea9-4d99-88b8-ece171a905c9",
   "metadata": {},
   "source": [
    "## Function Features\n",
    "\n",
    "In this section, we'll explore various features of Rust functions, including multiple return types, pattern matching, and default arguments. Let's dive into each feature with some examples.\n",
    "\n",
    "### Multiple Return Types\n",
    "\n",
    "Rust functions can return multiple values using tuples. Let's create a function that adds and subtracts two numbers, returning both the sum and the difference:"
   ]
  },
  {
   "cell_type": "code",
   "execution_count": null,
   "id": "fec80308-ffd8-4e8e-a17e-0c876f52f888",
   "metadata": {},
   "outputs": [],
   "source": [
    "fn add_and_subtract(a: i32, b: i32) -> (i32, i32) {\n",
    "    let sum: i32 = a + b;\n",
    "    let difference: i32 = a - b;\n",
    "    return (sum, difference);\n",
    "}"
   ]
  },
  {
   "cell_type": "markdown",
   "id": "fab34d87-6940-43d8-a93e-4e0941ddffd5",
   "metadata": {},
   "source": [
    "Now let's call the function."
   ]
  },
  {
   "cell_type": "code",
   "execution_count": null,
   "id": "c341d636-aa7f-4d69-8aad-4f8ac28aa385",
   "metadata": {},
   "outputs": [],
   "source": [
    "let (sum, difference) = add_and_subtract(7, 3);\n",
    "println!(\"The sum is: {}, and the difference is: {}\", sum, difference);"
   ]
  },
  {
   "cell_type": "markdown",
   "id": "491840d9-1e99-41d7-84a9-68cb35b26b1f",
   "metadata": {},
   "source": [
    "In this example, the add_and_subtract function returns a tuple with two i32 values. When we call this function, we can use pattern matching to assign the returned values to two variables, sum and difference.\n",
    "\n",
    "### Pattern Matching\n",
    "\n",
    "Rust functions can use pattern matching to handle different input values in a concise and expressive way. Let's create a function that checks the weather and returns an activity suggestion based on the input:"
   ]
  },
  {
   "cell_type": "code",
   "execution_count": null,
   "id": "64b79fa1-05d7-43e9-babc-713d778bdd25",
   "metadata": {},
   "outputs": [],
   "source": [
    "fn suggest_activity(weather: &str) -> &str {\n",
    "    match weather {\n",
    "        \"sunny\" => \"Let's go outside and play!\",\n",
    "        \"cloudy\" => \"It's cloudy, but we can still go outside.\",\n",
    "        \"rainy\" => \"It's rainy. Let's stay inside.\",\n",
    "        _ => \"I don't know this weather. Let's just stay inside.\",\n",
    "    }\n",
    "}\n"
   ]
  },
  {
   "cell_type": "markdown",
   "id": "ccc9de85-8cae-4b3c-b1ef-924cbaa1bd60",
   "metadata": {},
   "source": [
    "Now lets call the function."
   ]
  },
  {
   "cell_type": "code",
   "execution_count": null,
   "id": "48e00c8e-c550-4e25-b308-3654dde8f414",
   "metadata": {},
   "outputs": [],
   "source": [
    "let weather: &str = \"sunny\";\n",
    "let activity: &str = suggest_activity(weather);\n",
    "println!(\"The suggested activity is: {}\", activity);"
   ]
  },
  {
   "cell_type": "markdown",
   "id": "b7c3aec4-8937-4860-b826-349ad6cac528",
   "metadata": {},
   "source": [
    "In this example, the suggest_activity function uses a match statement to return a suggested activity based on the weather input. Pattern matching allows us to handle multiple input cases in a clean and organized way.\n",
    "\n",
    "### Default Arguments\n",
    "\n",
    "Rust does not have built-in support for default arguments like some other languages. However, we can achieve similar functionality using a combination of `Option` types and the `unwrap_or` method. Let's create a function that multiplies two numbers, with a default value for the second parameter:"
   ]
  },
  {
   "cell_type": "code",
   "execution_count": null,
   "id": "cac40f93-1dbc-4a6e-99b0-87c3045602f0",
   "metadata": {},
   "outputs": [],
   "source": [
    "fn multiply_with_default(a: i32, b: Option<i32>) -> i32 {\n",
    "    let b = b.unwrap_or(1);\n",
    "    return a * b;\n",
    "}"
   ]
  },
  {
   "cell_type": "markdown",
   "id": "2faac1bb-74d8-444d-9c71-b0a70d3a9069",
   "metadata": {},
   "source": [
    "Lets call our function"
   ]
  },
  {
   "cell_type": "code",
   "execution_count": null,
   "id": "c2831fd4-93e9-4c6e-b870-dba1ba17589b",
   "metadata": {},
   "outputs": [],
   "source": [
    "let result1 = multiply_with_default(3, Some(4));\n",
    "let result2 = multiply_with_default(3, None);\n",
    "println!(\"3 * 4 is: {}\", result1); // 12\n",
    "println!(\"3 * 1 is: {}\", result2); // 3 (using default value for b)"
   ]
  },
  {
   "cell_type": "markdown",
   "id": "62122159-f3f1-448c-a8f1-c4c06f267365",
   "metadata": {},
   "source": [
    "In this example, we use an `Option<i32>` type for the second parameter, `b`. Inside the function, we use the unwrap_or method to get the value of `b` if it's provided (using `Some(value)`), or use the default value (`1`) if `b` is `None`. This way, we can call the function with or without providing `a` value for `b`.\n",
    "\n",
    "These various features of Rust functions make them powerful and flexible tools for building expressive and organized code. With multiple return types, pattern matching, and default arguments, you can create functions that handle a wide range of situations and make your code more modular and maintainable."
   ]
  },
  {
   "cell_type": "markdown",
   "id": "54bcd2d8-94c7-4f7a-893a-33a0dfdcaa1a",
   "metadata": {},
   "source": [
    "# Structs and Implementations\n",
    "Structs in Rust are like your toy action figures. Each action figure (struct) might have a name, color, and special power. These are called fields. Each field stores a piece of data that is related to the action figure. Like, the name field might store \"Super Rust\", the color field might store \"red\", and the special power might be \"incredible speed\".\n",
    "\n",
    "Imagine we have an action figure and we want to make it do things. That's where \"implementations\" come into play. With implementations, we can make our action figures (structs) do things like introduce themselves or use their special powers.\n",
    "\n",
    "## Structs\n",
    "\n",
    "Let's create a struct for our action figure. In Rust, we can create a struct like this:"
   ]
  },
  {
   "cell_type": "code",
   "execution_count": null,
   "id": "b29f6e97-9a65-43d0-93c2-e8366f78fee9",
   "metadata": {},
   "outputs": [],
   "source": [
    "struct ActionFigure {\n",
    "    name: String,\n",
    "    color: String,\n",
    "    special_power: String,\n",
    "}"
   ]
  },
  {
   "cell_type": "markdown",
   "id": "63e3601d-cb29-4e76-81c4-91f850133871",
   "metadata": {},
   "source": [
    "This says we're creating an ActionFigure with three fields: `name`, `color`, and `special_power`. Each field has a type, and in this case, they're all `String` types.\n",
    "\n",
    "To create an instance of our ActionFigure struct, we can do this:"
   ]
  },
  {
   "cell_type": "code",
   "execution_count": null,
   "id": "cbc58321-417c-4ea6-907b-32c4ea7078c8",
   "metadata": {},
   "outputs": [],
   "source": [
    "let super_rust = ActionFigure {\n",
    "    name: String::from(\"Super Rust\"),\n",
    "    color: String::from(\"red\"),\n",
    "    special_power: String::from(\"incredible speed\"),\n",
    "};"
   ]
  },
  {
   "cell_type": "markdown",
   "id": "ba2118ba-dd06-42e7-84f9-dd97c8f26deb",
   "metadata": {},
   "source": [
    "Here, super_rust is an instance of our ActionFigure struct.\n",
    "## Implementations\n",
    "\n",
    "Now, let's use \"implementations\" to give our action figure some actions:"
   ]
  },
  {
   "cell_type": "code",
   "execution_count": null,
   "id": "bc7d4334-2b07-49a9-8c55-aed331982fe4",
   "metadata": {},
   "outputs": [],
   "source": [
    "impl ActionFigure {\n",
    "    fn introduce_yourself(&self) {\n",
    "        println!(\"Hi, my name is {}. My color is {}, and my special power is {}.\", self.name, self.color, self.special_power);\n",
    "    }\n",
    "\n",
    "    fn use_special_power(&self) {\n",
    "        println!(\"{} uses the power of {}!\", self.name, self.special_power);\n",
    "    }\n",
    "}"
   ]
  },
  {
   "cell_type": "markdown",
   "id": "ecae16b3-6c17-4a08-84cb-b289b725ff72",
   "metadata": {},
   "source": [
    "In this example, we've added two methods to our `ActionFigure` `struct`: `introduce_yourself` and `use_special_power`. These methods are defined inside the `impl` (short for \"implementation\") block for `ActionFigure`.\n",
    "\n",
    "Now, we can make our `super_rust` action figure introduce itself and use its special power:"
   ]
  },
  {
   "cell_type": "code",
   "execution_count": null,
   "id": "9cd22494-8446-4472-8e65-713ca581c4e2",
   "metadata": {},
   "outputs": [],
   "source": [
    "let super_rust = ActionFigure {\n",
    "        name: String::from(\"Super Rust\"),\n",
    "        color: String::from(\"red\"),\n",
    "        special_power: String::from(\"incredible speed\"),\n",
    "    };\n",
    "\n",
    "    super_rust.introduce_yourself();\n",
    "    super_rust.use_special_power();"
   ]
  },
  {
   "cell_type": "markdown",
   "id": "ab25bca8-7f95-4294-8926-c6232637d082",
   "metadata": {},
   "source": [
    "When we run this program, we'll see that super_rust can introduce itself and use its special power!\n",
    "\n",
    "Structs and implementations in Rust are a powerful way to group related data and actions together. With these tools, we can create action figures (structs) with their own properties (fields) and actions (methods). It's like having a whole universe of action figures at our command!"
   ]
  },
  {
   "cell_type": "code",
   "execution_count": null,
   "id": "e71c539d-0418-437a-a4f9-ecc51e1d7739",
   "metadata": {},
   "outputs": [],
   "source": []
  }
 ],
 "metadata": {
  "kernelspec": {
   "display_name": "Rust",
   "language": "rust",
   "name": "rust"
  },
  "language_info": {
   "codemirror_mode": "rust",
   "file_extension": ".rs",
   "mimetype": "text/rust",
   "name": "Rust",
   "pygment_lexer": "rust",
   "version": ""
  }
 },
 "nbformat": 4,
 "nbformat_minor": 5
}
