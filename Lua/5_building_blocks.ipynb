{
 "cells": [
  {
   "cell_type": "markdown",
   "id": "ad2a6ae7-077e-482a-80a6-d07998b04c97",
   "metadata": {},
   "source": [
    "# Lua Programming for your Grandmother\n",
    "\n",
    "# Introduction\n",
    "Lua is like a set of building blocks, but instead of physical blocks, we have words and symbols that we use to create computer programs. Imagine it like a new language you're learning, but this language helps you talk to a computer and tell it exactly what to do. In Lua, there are 5 important parts that you need to learn:\n",
    "\n",
    "1. **Variables**: Variables are like boxes where you can store anything - pictures of cats, today's date, your favorite quote - anything! We use these boxes to remember things for later.\n",
    "\n",
    "2. **Decisions**: Just like you might decide what to wear based on the weather, Lua can make decisions too. We can tell Lua that if it's raining in the game, draw an umbrella. If it's sunny, draw sunglasses. This is how Lua makes decisions.\n",
    "\n",
    "3. **Loops**: Remember when we used to sing that song on repeat during car rides? Loops are like the repeat button for a song. If we want Lua to do something over and over, we put it in a loop.\n",
    "\n",
    "4. **Functions**: Functions are like your favorite recipes. Just like a cake recipe that tells us how to make a cake step by step, a function is a set of instructions that we can use again and again.\n",
    "\n",
    "5. **Tables**: Tables in Lua are like a big cupboard with lots of little drawers. Each drawer can hold different things, and they have labels so we can find what we stored. It's Lua's way of keeping things tidy and organized.\n",
    "\n",
    "These are the basics of Lua. With these five parts, you can start telling the computer what to do, just like putting together building blocks or following a recipe. Isn't that fun?"
   ]
  },
  {
   "cell_type": "markdown",
   "id": "b8d6993f-2eb2-4a14-871f-4a7b43cec048",
   "metadata": {},
   "source": [
    "# Variables\n",
    "\n",
    "In Lua, a variable is like a box where we can store a piece of information. We can give this box a name so we remember what's in it. The way we do this is by using an equal sign (=). On the left side, we put the name of our box (which is the variable name), and on the right side, we put what we want to store in the box. Here are some examples:"
   ]
  },
  {
   "cell_type": "code",
   "execution_count": 3,
   "id": "234102ae-5456-4869-80ce-6bfeb1e5b275",
   "metadata": {},
   "outputs": [],
   "source": [
    "name = \"Grandma\"\n",
    "age = 70\n",
    "isHappy = true"
   ]
  },
  {
   "cell_type": "markdown",
   "id": "4cd8ac10-2391-4ec5-9b09-b6d280516d37",
   "metadata": {},
   "source": [
    "In the first line, we create a box and name it name. In that box, we put the word \"Grandma\". In the second line, we create another box called age, and we put the number 70 in it. The third line creates a box called isHappy and we put true in it, which is a way of saying yes or no in Lua.\n",
    "\n",
    "Let's talk about the types of things we can put in these boxes:\n",
    "\n",
    "1. Strings: Strings are just a fancy name for text or words. For instance, if you want to store your name, you would put it in quotes like this: `name = \"Grandma\"`.\n",
    "\n",
    "2. Numbers: If you want to store a number, you just write the number without quotes, like this: `age = 70`.\n",
    "\n",
    "3. Booleans: Booleans are a simple type with only two values: `true` and `false`. They're like yes or no answers. For example, if you're happy, you might have a box like this: `isHappy = true`.\n",
    "\n",
    "4. Tables: In Lua, tables are like trays with lots of little compartments. You can store different items in each compartment. But these compartments aren't labeled like in our previous description. Instead, they are numbered starting from 1. We simply put things in them in order. In other languages, these kinds of tables are often called arrays. Let's look at an example:"
   ]
  },
  {
   "cell_type": "code",
   "execution_count": 5,
   "id": "781e2c89-c0d3-4582-b99c-837f72ff85bc",
   "metadata": {},
   "outputs": [],
   "source": [
    "favoriteFruits = {\"Apple\", \"Banana\", \"Cherry\"}"
   ]
  },
  {
   "cell_type": "markdown",
   "id": "74052e37-c1c4-4bbf-b49f-29fa4759dbdb",
   "metadata": {},
   "source": [
    "In this example, we made a table (or an array as it's called in other languages) named `favoriteFruits`. In the first compartment of this tray, we put \"Apple\", in the second we put \"Banana\", and in the third, we put \"Cherry\". So, if we want to know what fruit is in the first compartment of our favoriteFruits tray, Lua will tell us it's \"Apple\".\n",
    "\n",
    "We'll talk more about tables and their other uses in a bit, but for now, just remember that they're like trays or boxes with numbered compartments.\n",
    "\n",
    "5. Nil: In Lua, we use nil to represent no value or nothing. It's like an empty box. If you had a box named pet, but you don't have a pet, you might say `pet = nil`.\n",
    "\n",
    "And there you have it, the different types of information we can put in our boxes (or variables as we call them in Lua)!"
   ]
  },
  {
   "cell_type": "markdown",
   "id": "39bc33e2-03ae-4de8-95ae-d818b71e7a93",
   "metadata": {},
   "source": [
    "# Decisions\n",
    "Making decisions in Lua is similar to how you decide what to wear based on the weather. Suppose it's a cool day, you might choose a sweater. If it's a warm day, you might prefer a t-shirt. This kind of decision-making is what we can do in Lua as well.\n",
    "\n",
    "Here's how we might write that in Lua:\n"
   ]
  },
  {
   "cell_type": "code",
   "execution_count": 6,
   "id": "252d6954-559a-45b0-bb03-e4271c43a830",
   "metadata": {},
   "outputs": [],
   "source": [
    "local temperature = 18\n",
    "\n",
    "if temperature > 20 then\n",
    "    outfit = \"T-shirt\"\n",
    "else\n",
    "    outfit = \"Sweater\"\n",
    "end\n"
   ]
  },
  {
   "cell_type": "markdown",
   "id": "a5aea0a0-a3d0-475d-b8c8-5c5fc13ddca0",
   "metadata": {},
   "source": [
    "In this script, it's like saying, \"If the temperature is more than 20 degrees Celsius, then I'll wear a t-shirt. Otherwise (or 'else'), I'll wear a sweater.\"\n",
    "\n",
    "In this example, the variable temperature holds the current temperature. The if part checks if the temperature is above 20 degrees Celsius. If it is, the outfit is set to \"T-shirt\". If the temperature isn't above 20, the else part kicks in and outfit is set to \"Sweater\".\n",
    "\n",
    "So Lua can make decisions using this \"if this, then that\" logic, much like how we decide what to wear based on the temperature."
   ]
  },
  {
   "cell_type": "markdown",
   "id": "d12fe0e8-073f-4680-9b76-c2f76a2f93f0",
   "metadata": {},
   "source": [
    "## Decisions with Else If\n",
    "\n",
    "Sometimes in gardening, you have to make decisions based on the season. In the spring, you might plant flowers. In the summer, you might water the garden regularly. In autumn, it's time to harvest. And in winter, you might just stay inside and plan next year's garden!\n",
    "\n",
    "In Lua, when we have more than two options to consider, we can use something called `elseif`. It stands for \"else if\", and it lets us check more conditions. Let's see how this would look in the context of gardening:"
   ]
  },
  {
   "cell_type": "code",
   "execution_count": 9,
   "id": "58902bb6-da5a-4107-83dc-0f3c532c9a61",
   "metadata": {},
   "outputs": [],
   "source": [
    "local season = \"Autumn\"\n",
    "\n",
    "if season == \"Spring\" then\n",
    "    task = \"Plant flowers\"\n",
    "elseif season == \"Summer\" then\n",
    "    task = \"Water the garden\"\n",
    "elseif season == \"Autumn\" then\n",
    "    task = \"Harvest the vegetables\"\n",
    "else\n",
    "    task = \"Plan for next year's garden\"\n",
    "end"
   ]
  },
  {
   "cell_type": "markdown",
   "id": "65c92b1b-3480-431a-a3cd-55955f2867de",
   "metadata": {},
   "source": [
    "In this example, we have a variable season that tells us the current `season`. First, Lua checks if season is \"Spring\". If it is, it sets `task` to \"Plant flowers\". If it's not spring, then Lua checks the next condition: is it \"Summer\"? If it is, then `task` becomes \"Water the garden\". If it's not summer, Lua checks if it's \"Autumn\". If it is, then `task` is set to \"Harvest the vegetables\". But if it's neither spring, summer, nor autumn (which means it's winter), then the `else` part kicks in, and `task` is set to \"Plan for next year's garden\".\n",
    "\n",
    "So, with `elseif`, we can make more complex decisions in Lua, just like deciding what to do in the garden based on the different seasons."
   ]
  },
  {
   "cell_type": "markdown",
   "id": "93f0948a-8dfc-486a-9ee3-5d4f971233b0",
   "metadata": {},
   "source": [
    "# Loops\n",
    "You know how sometimes in gardening, there are tasks that you do over and over? Like watering a row of flower pots, one after the other, or pulling out weeds from each section of your garden? In the world of programming, we have a handy tool to do such repetitive tasks called a \"loop\".\n",
    "\n",
    "A loop is like a set of gardening instructions that Lua follows over and over again until it's done. Instead of you having to tell Lua to water each pot one by one, you can just say, \"Water each pot in this row,\" and Lua will keep doing it until there are no more pots left to water. This way, no matter how many pots you have, Lua knows it has to water them all, just like you would in your garden.\n",
    "\n",
    "In Lua, there are two main kinds of loops that we use - \"For Loop\" and \"While Loop\". Let's take a look at each of them:\n",
    "\n",
    "## For Loop\n",
    "\n",
    "Think of a \"For Loop\" as the gardening routine you follow for a fixed number of plants. Suppose you have 5 flower pots that need watering. You go to each pot, one by one, and water it.\n",
    "\n",
    "In Lua, we can use a \"For Loop\" to perform this task, similar to watering each flower pot:"
   ]
  },
  {
   "cell_type": "code",
   "execution_count": null,
   "id": "4eee2347-2bef-493c-b719-0851fa1c1ce4",
   "metadata": {},
   "outputs": [],
   "source": [
    "for i = 1, 5 do\n",
    "    print(\"Watering flower pot number \" .. i)\n",
    "end"
   ]
  },
  {
   "cell_type": "markdown",
   "id": "013a8398-927d-4b66-b716-ed10bb78409a",
   "metadata": {},
   "source": [
    "In this loop, Lua is like saying, \"For each flower pot from the first one to the fifth one, water the pot.\" The variable i helps Lua remember which flower pot it is watering. The print line is like Lua watering the flower pot and then telling you which one it just watered.\n",
    "\n",
    "## While Loop\n",
    "\n",
    "Now, what if you didn't know how many flower pots you have? Maybe one day you add a few more pots or a few get broken. Lua has a special loop for this called a \"While Loop\". It will keep going as long as a certain condition is true.\n",
    "\n",
    "Here's how you'd use a \"While Loop\" to water an unknown number of flower pots:"
   ]
  },
  {
   "cell_type": "code",
   "execution_count": null,
   "id": "31e60bb8-acec-42e4-acd8-1735d13382dd",
   "metadata": {},
   "outputs": [],
   "source": [
    "local totalPots = 10\n",
    "local wateredPots = 0\n",
    "\n",
    "while wateredPots < totalPots do\n",
    "    wateredPots = wateredPots + 1\n",
    "    print(\"Watered flower pot number \" .. wateredPots)\n",
    "end"
   ]
  },
  {
   "cell_type": "markdown",
   "id": "1696777e-aa61-415d-abc9-9d3a79f75253",
   "metadata": {},
   "source": [
    "In this example, you start with 10 flower pots and none of them have been watered yet. The \"while\" loop keeps going as long as the number of watered pots is less than the total number of pots. Each time through the loop, you water one more pot, until all the pots have been watered.\n",
    "\n",
    "So, in Lua, \"For Loops\" and \"While Loops\" are a way to do something over and over, just like when you water each flower pot in your garden one by one."
   ]
  },
  {
   "cell_type": "markdown",
   "id": "54ca1560-fa0b-4bed-817e-52429fee0b77",
   "metadata": {},
   "source": [
    "# Functions\n",
    "\n",
    "You know when you're gardening, there are certain tasks you do often, like watering a plant or pruning a bush? And you have your special way of doing each of these tasks, right? Well, in Lua, we can create our own special set of instructions for a task, and this is called a \"function\".\n",
    "\n",
    "Imagine you could write down your method for watering a plant: check the soil, if it's dry, add water, then move to the next plant. Then, instead of repeating those instructions every time, you could just say, \"Do the watering method\". That's what a function is!\n",
    "\n",
    "Here's how you could write a simple function in Lua to water a plant:"
   ]
  },
  {
   "cell_type": "code",
   "execution_count": 10,
   "id": "3a4996b4-68de-4539-a9bb-3b5a4e64e256",
   "metadata": {},
   "outputs": [
    {
     "name": "stdout",
     "output_type": "stream",
     "text": [
      "Checking the soil...\n",
      "Soil is dry, adding water...\n",
      "Moving to the next plant.\n"
     ]
    }
   ],
   "source": [
    "function waterPlant()\n",
    "    print(\"Checking the soil...\")\n",
    "    print(\"Soil is dry, adding water...\")\n",
    "    print(\"Moving to the next plant.\")\n",
    "end\n",
    "\n",
    "-- And here is how you would tell Lua to use your function:\n",
    "waterPlant()"
   ]
  },
  {
   "cell_type": "markdown",
   "id": "10d64753-0c69-439f-884e-1adaa82507a4",
   "metadata": {},
   "source": [
    "In this example, waterPlant is the name of the function, and the instructions for watering a plant are written between `function waterPlant()` and end. Then, when we call `waterPlant()` at the end, Lua follows all the instructions inside the function.\n",
    "\n",
    "But what if you have different types of plants and each type needs a different amount of water? You can give your function the ability to accept this information. Here's how:"
   ]
  },
  {
   "cell_type": "code",
   "execution_count": 11,
   "id": "92a4993d-738f-4455-a36a-5965d1f7ba44",
   "metadata": {},
   "outputs": [
    {
     "name": "stdout",
     "output_type": "stream",
     "text": [
      "Checking the soil...\n",
      "Soil is dry, adding 500ml of water...\n",
      "Moving to the next plant.\n"
     ]
    }
   ],
   "source": [
    "function waterPlant(waterAmount)\n",
    "    print(\"Checking the soil...\")\n",
    "    print(\"Soil is dry, adding \" .. waterAmount .. \"ml of water...\")\n",
    "    print(\"Moving to the next plant.\")\n",
    "end\n",
    "\n",
    "-- Now, when you use your function, you can tell it how much water to use:\n",
    "waterPlant(500)"
   ]
  },
  {
   "cell_type": "markdown",
   "id": "ba21b132-4287-465a-b00e-45be34233153",
   "metadata": {},
   "source": [
    "This way, your `waterPlant` function can water different plants with different amounts of water, just by changing the number when you call it. This is one of the most powerful parts of functions in Lua - they let you write a set of instructions once, and then use those instructions in different ways as needed, just like following your own gardening methods!"
   ]
  },
  {
   "cell_type": "markdown",
   "id": "999066b1-6d35-4262-a5e7-1db036129e50",
   "metadata": {},
   "source": [
    "# Tables\n",
    "\n",
    "Imagine your garden shed where you keep all your gardening tools - your trowels, gloves, watering cans, and packets of seeds. It's much easier to work when everything is well-organised, isn't it? In the programming world, we have a similar concept to keep things organised, and in Lua, we call it a \"Table\".\n",
    "\n",
    "A Table in Lua is a bit like a garden shed. It's a place where we can store different items, and each item has its own spot. This way, when we need an item, we can easily find it in its spot.\n",
    "\n",
    "Here's a simple example of a Lua Table that holds some garden tools:"
   ]
  },
  {
   "cell_type": "code",
   "execution_count": 12,
   "id": "c2dab53e-af25-4c93-ba9a-9e2e3c61c05c",
   "metadata": {},
   "outputs": [],
   "source": [
    "gardenTools = { \"trowel\", \"gloves\", \"watering can\", \"seeds\" }"
   ]
  },
  {
   "cell_type": "markdown",
   "id": "3ea48604-d1ab-4cb5-a653-f256b352caa6",
   "metadata": {},
   "source": [
    "In this example, `gardenTools` is our garden shed, and it has four spots. In the first spot, we've stored a \"trowel\", in the second spot we've stored \"gloves\", in the third spot there's a \"watering can\", and in the fourth spot we've stored \"seeds\".\n",
    "\n",
    "Now, if we want to check what's in the third spot of our garden shed, we can do this:"
   ]
  },
  {
   "cell_type": "code",
   "execution_count": 13,
   "id": "e4a3e774-685c-4c99-8624-76a167e0bcf9",
   "metadata": {},
   "outputs": [
    {
     "name": "stdout",
     "output_type": "stream",
     "text": [
      "watering can\n"
     ]
    }
   ],
   "source": [
    "print(gardenTools[3])  -- This will output: watering can"
   ]
  },
  {
   "cell_type": "markdown",
   "id": "421c8a26-4268-46d7-a9ac-854e23991e2c",
   "metadata": {},
   "source": [
    "So, just like we go to the third spot in our shed to get the watering can, we can do the same in Lua with gardenTools[3].\n",
    "\n",
    "But what if we want to add more spots in our garden shed, or change what's stored in a spot? We can do that in Lua Tables as well!\n",
    "\n",
    "Here's how you can change what's in the third spot and add a new tool:"
   ]
  },
  {
   "cell_type": "code",
   "execution_count": 14,
   "id": "535bad7f-099a-4757-878b-8797ae311260",
   "metadata": {},
   "outputs": [],
   "source": [
    "gardenTools[3] = \"fertilizer\"  -- Changing the third spot\n",
    "table.insert(gardenTools, \"pruners\")  -- Adding a new spot"
   ]
  },
  {
   "cell_type": "markdown",
   "id": "f3e551a8-1558-4932-b0ff-acfec673bfc1",
   "metadata": {},
   "source": [
    "Now, the third spot in our shed has \"fertilizer\", and we've added \"pruners\" to a new spot at the end of our Table.\n",
    "\n",
    "In Lua, Tables are a handy way to keep different pieces of information organised, just like you organise your gardening tools in your shed!"
   ]
  },
  {
   "cell_type": "markdown",
   "id": "62086e48-7f42-48c3-9ccc-7fb523976795",
   "metadata": {},
   "source": [
    "## Tables with Keys\n",
    "\n",
    "In your garden shed, imagine if instead of just numbered spots for your tools, you had a special label for each spot that told you what was there. So instead of remembering that the third spot is for the \"fertilizer\", there'd be a label saying \"fertilizer\". This would make it even easier to find your tools, wouldn't it? In Lua, we can do something very similar with Tables using something called \"keys\".\n",
    "\n",
    "A key is like a label that helps you identify what's stored in a spot. Let's convert our previous `gardenTools` Table to use keys:"
   ]
  },
  {
   "cell_type": "code",
   "execution_count": 15,
   "id": "aac6c35c-782f-4184-ade3-0fd9dedd5a50",
   "metadata": {},
   "outputs": [],
   "source": [
    "gardenTools = { trowel = \"trowel\", gloves = \"gloves\", can = \"watering can\", seeds = \"seeds\" }"
   ]
  },
  {
   "cell_type": "markdown",
   "id": "3495e5eb-abc7-4783-ad71-ed9b6f6d3c2f",
   "metadata": {},
   "source": [
    "Now, instead of just numbered spots, each spot in our gardenTools Table (our garden shed) has a label - `trowel`, `gloves`, `can`, and `seeds`. And we can find our tools using these labels:"
   ]
  },
  {
   "cell_type": "code",
   "execution_count": 16,
   "id": "ddf41816-923d-4e16-999f-74f20342c5a4",
   "metadata": {},
   "outputs": [
    {
     "name": "stdout",
     "output_type": "stream",
     "text": [
      "watering can\n"
     ]
    }
   ],
   "source": [
    "print(gardenTools[\"can\"])  -- This will output: watering can"
   ]
  },
  {
   "cell_type": "markdown",
   "id": "b84547dc-c2ab-4cc8-a011-c9f6d0fe5403",
   "metadata": {},
   "source": [
    "Just like going to the spot labelled \"can\" to get the watering can, we can find the watering can in Lua with `gardenTools[\"can\"]`.\n",
    "\n",
    "And of course, we can change what's in a labelled spot or add a new label and tool to our shed:"
   ]
  },
  {
   "cell_type": "code",
   "execution_count": 17,
   "id": "8667eb33-41ab-431e-a61e-cd4c9a9f0b6e",
   "metadata": {},
   "outputs": [],
   "source": [
    "gardenTools[\"can\"] = \"fertilizer\"  -- Changing what's at \"can\"\n",
    "gardenTools[\"pruners\"] = \"pruners\"  -- Adding a new spot and tool"
   ]
  },
  {
   "cell_type": "markdown",
   "id": "39097a54-ac3b-4813-a6c7-8361508b03a6",
   "metadata": {},
   "source": [
    "Now, the spot labelled \"can\" has \"fertilizer\", and we've added a new label \"pruners\" with a new tool \"pruners\" to our garden shed.\n",
    "\n",
    "In Lua, Tables with keys let us organise and find our information easily, just like labels in your garden shed help you organise and find your gardening tools!"
   ]
  },
  {
   "cell_type": "markdown",
   "id": "34e6c7e4-697d-47bd-94be-ef019d585890",
   "metadata": {},
   "source": [
    "# Conclusion\n",
    "\n",
    "Dear Grandma, I hope you've enjoyed this little guide to Lua that we've created together, inspired by your love for gardening.\n",
    "\n",
    "We started our journey into Lua with **Variables**, just like labels we put on our plants. We saw how we could store different things, like names of plants or numbers in them, and how to change what's stored if we needed.\n",
    "\n",
    "Then we moved on to **Decisions**, the equivalent of deciding whether to water a plant based on how dry the soil is. We used if and elseif to make decisions and control what Lua does based on certain conditions.\n",
    "\n",
    "After that, we learnt about **Loops**, which are like our daily or weekly gardening routines, repeating tasks over and over for each plant or for a certain amount of time.\n",
    "\n",
    "Next, we covered **Functions**. These are like our special gardening methods, a set of instructions that we can use whenever we need, making our code neat and easy to understand.\n",
    "\n",
    "Lastly, we explored **Tables**, Lua's version of our garden shed. We saw how we can store things in numbered spots, and then how to add labels to these spots using keys for easier access and organisation.\n",
    "\n",
    "Throughout our exploration, we've seen that Lua, just like gardening, is about organising and managing things so they work together in the best way possible. It's a different world, but with familiar concepts and a beauty of its own.\n",
    "\n",
    "Thank you for accompanying me on this journey, Grandma. Now that you've gotten a taste of how Lua works, maybe you'll find new ways to blend your love of gardening with a bit of coding! Happy Gardening and Happy Coding!"
   ]
  },
  {
   "cell_type": "code",
   "execution_count": null,
   "id": "dd13a43f-a196-44d7-99eb-e61f392dae50",
   "metadata": {},
   "outputs": [],
   "source": []
  }
 ],
 "metadata": {
  "kernelspec": {
   "display_name": "Lua",
   "language": "lua",
   "name": "lua"
  },
  "language_info": {
   "file_extension": ".lua",
   "mimetype": "text/x-lua",
   "name": "lua",
   "version": "5.1"
  }
 },
 "nbformat": 4,
 "nbformat_minor": 5
}
